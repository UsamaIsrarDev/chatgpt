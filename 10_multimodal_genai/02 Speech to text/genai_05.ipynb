{
 "cells": [
  {
   "cell_type": "markdown",
   "id": "aabd31a2",
   "metadata": {},
   "source": [
    "### Introduction\n",
    "\n",
    "The Audio API provides two speech to text endpoints, transcriptions and translations, based on our state-of-the-art open source large-v2 Whisper model. They can be used to:\n",
    "\n",
    "### Transcribe audio into whatever language the audio is in.\n",
    "\n",
    "Translate and transcribe the audio into english.\n",
    "File uploads are currently limited to 25 MB and the following input file types are supported: mp3, mp4, mpeg, mpga, m4a, wav, and webm.\n",
    "Transcriptions\n",
    "The transcriptions API takes as input the audio file you want to transcribe and the desired output file format for the transcription of the audio. We currently support multiple input and output file formats.\n",
    "\n",
    "By default, the response type will be json with the raw text included.\n",
    "\n",
    "{\n",
    "  \"text\": \"Imagine the wildest idea that you've ever had, and you're curious about how it might scale to something that's a 100, a 1,000 times bigger.\n",
    "....\n",
    "}"
   ]
  },
  {
   "cell_type": "code",
   "execution_count": null,
   "id": "7630eeed",
   "metadata": {},
   "outputs": [
    {
     "ename": "OpenAIError",
     "evalue": "The api_key client option must be set either by passing api_key to the client or by setting the OPENAI_API_KEY environment variable",
     "output_type": "error",
     "traceback": [
      "\u001b[31m---------------------------------------------------------------------------\u001b[39m",
      "\u001b[31mOpenAIError\u001b[39m                               Traceback (most recent call last)",
      "\u001b[36mCell\u001b[39m\u001b[36m \u001b[39m\u001b[32mIn[2]\u001b[39m\u001b[32m, line 3\u001b[39m\n\u001b[32m      1\u001b[39m \u001b[38;5;28;01mfrom\u001b[39;00m\u001b[38;5;250m \u001b[39m\u001b[34;01mopenai\u001b[39;00m\u001b[38;5;250m \u001b[39m\u001b[38;5;28;01mimport\u001b[39;00m OpenAI\n\u001b[32m----> \u001b[39m\u001b[32m3\u001b[39m client = \u001b[43mOpenAI\u001b[49m\u001b[43m(\u001b[49m\u001b[43m)\u001b[49m\n\u001b[32m      5\u001b[39m audio_file = \u001b[38;5;28mopen\u001b[39m(\u001b[33m'\u001b[39m\u001b[33murdu.mp3\u001b[39m\u001b[33m'\u001b[39m, \u001b[33m'\u001b[39m\u001b[33mrb\u001b[39m\u001b[33m'\u001b[39m)\n",
      "\u001b[36mFile \u001b[39m\u001b[32mc:\\Users\\Netever\\anaconda3\\envs\\python12\\Lib\\site-packages\\openai\\_client.py:130\u001b[39m, in \u001b[36mOpenAI.__init__\u001b[39m\u001b[34m(self, api_key, organization, project, webhook_secret, base_url, websocket_base_url, timeout, max_retries, default_headers, default_query, http_client, _strict_response_validation)\u001b[39m\n\u001b[32m    128\u001b[39m     api_key = os.environ.get(\u001b[33m\"\u001b[39m\u001b[33mOPENAI_API_KEY\u001b[39m\u001b[33m\"\u001b[39m)\n\u001b[32m    129\u001b[39m \u001b[38;5;28;01mif\u001b[39;00m api_key \u001b[38;5;129;01mis\u001b[39;00m \u001b[38;5;28;01mNone\u001b[39;00m:\n\u001b[32m--> \u001b[39m\u001b[32m130\u001b[39m     \u001b[38;5;28;01mraise\u001b[39;00m OpenAIError(\n\u001b[32m    131\u001b[39m         \u001b[33m\"\u001b[39m\u001b[33mThe api_key client option must be set either by passing api_key to the client or by setting the OPENAI_API_KEY environment variable\u001b[39m\u001b[33m\"\u001b[39m\n\u001b[32m    132\u001b[39m     )\n\u001b[32m    133\u001b[39m \u001b[38;5;28mself\u001b[39m.api_key = api_key\n\u001b[32m    135\u001b[39m \u001b[38;5;28;01mif\u001b[39;00m organization \u001b[38;5;129;01mis\u001b[39;00m \u001b[38;5;28;01mNone\u001b[39;00m:\n",
      "\u001b[31mOpenAIError\u001b[39m: The api_key client option must be set either by passing api_key to the client or by setting the OPENAI_API_KEY environment variable"
     ]
    }
   ],
   "source": [
    "from openai import OpenAI\n",
    "\n",
    "client = OpenAI()\n",
    "\n",
    "audio_file = open('urdu.mp3', 'rb')\n",
    "\n",
    "transcript = client.audio.transcriptions.create(\n",
    "    model='whisper-1',\n",
    "    file=audio_file,\n",
    "    response_format='text'\n",
    ")"
   ]
  },
  {
   "cell_type": "code",
   "execution_count": null,
   "id": "432d447f",
   "metadata": {},
   "outputs": [],
   "source": [
    "transcript"
   ]
  },
  {
   "cell_type": "markdown",
   "id": "d4d498de",
   "metadata": {},
   "source": [
    "### Translations\n",
    "\n",
    "The translations API takes as input the audio file in any of the supported languages and transcribes, if necessary, the audio into English. This differs from our /Transcriptions endpoint since the output is not in the original input language and is instead translated to English text."
   ]
  },
  {
   "cell_type": "code",
   "execution_count": null,
   "id": "f0a58940",
   "metadata": {},
   "outputs": [],
   "source": [
    "from openai import OpenAI\n",
    "\n",
    "client = OpenAI()\n",
    "\n",
    "audio_file = open('urdu.mp3', 'rb')\n",
    "\n",
    "translation = client.audio.translations.create(\n",
    "    model='whisper-1',\n",
    "    file=audio_file,\n",
    "    response_format='text'\n",
    ")\n",
    "\n",
    "translation"
   ]
  },
  {
   "cell_type": "markdown",
   "id": "187bd08d",
   "metadata": {},
   "source": [
    "##### We only support translation into english at this time.\n",
    "\n",
    "## Supported languages\n",
    "\n",
    "We currently support the following languages through both the transcriptions and translations endpoint:\n",
    "\n",
    "Afrikaans, Arabic, Armenian, Azerbaijani, Belarusian, Bosnian, Bulgarian, Catalan, Chinese, Croatian, Czech, Danish, Dutch, English, Estonian, Finnish, French, Galician, German, Greek, Hebrew, Hindi, Hungarian, Icelandic, Indonesian, Italian, Japanese, Kannada, Kazakh, Korean, Latvian, Lithuanian, Macedonian, Malay, Marathi, Maori, Nepali, Norwegian, Persian, Polish, Portuguese, Romanian, Russian, Serbian, Slovak, Slovenian, Spanish, Swahili, Swedish, Tagalog, Tamil, Thai, Turkish, Ukrainian, Urdu, Vietnamese, and Welsh.\n",
    "\n",
    "While the underlying model was trained on 98 languages, we only list the languages that exceeded <50% word error rate (WER) which is an industry standard benchmark for speech to text model accuracy. The model will return results for languages not listed above but the quality will be low."
   ]
  },
  {
   "cell_type": "code",
   "execution_count": null,
   "id": "9832fff3",
   "metadata": {},
   "outputs": [],
   "source": [
    "!pip install pydub ffprobe --upgrade --force"
   ]
  },
  {
   "cell_type": "code",
   "execution_count": null,
   "id": "108b4fd9",
   "metadata": {},
   "outputs": [],
   "source": [
    "!brew install ffmpeg\n",
    "!ffprobe -version"
   ]
  },
  {
   "cell_type": "markdown",
   "id": "46665a65",
   "metadata": {},
   "source": [
    "https://docs.tdarr.io/blog/how-to-install-ffprobe-and-gather-data-from-a-media-file"
   ]
  },
  {
   "cell_type": "code",
   "execution_count": null,
   "id": "03a37dd6",
   "metadata": {},
   "outputs": [],
   "source": [
    "from pydub import AudioSegment\n",
    "\n",
    "song = AudioSegment.from_mp3(\"G:\\git\\chatgpt\\10_multimodal_genai\\02 Speech to text\\urdu.mp3\")\n",
    "\n",
    "# pydub handles time in milliseconds\n",
    "\n",
    "ten_minutes = 10 * 60 * 1000\n",
    "\n",
    "first_ten_minutes = song[:ten_minutes]\n",
    "\n",
    "first_ten_minutes.export(\"chuck_10_25mb.mp3\", format=\"mp3\")\n",
    "\n",
    "first_ten_minutes"
   ]
  },
  {
   "cell_type": "markdown",
   "id": "38eda169",
   "metadata": {},
   "source": [
    "### Prompting\n",
    "\n",
    "You can use a prompt to improve the quality of the transcripts generated by the Whisper API. The model will try to match the style of the prompt, so it will be more likely to use capitalization and punctuation if the prompt does too. However, the current prompting system is much more limited than our other language models and only provides limited control over the generated audio. Here are some examples of how prompting can help in different scenarios:\n",
    "\n",
    "1. Prompts can be very helpful for correcting specific words or acronyms that the model often misrecognizes in the audio. For example, the following prompt improves the transcription of the words DALL·E and GPT-3, which were previously written as \"GDP 3\" and \"DALI\": \"The transcript is about OpenAI which makes technology like DALL·E, GPT-3, and ChatGPT with the hope of one day building an AGI system that benefits all of humanity\"\n",
    "\n",
    "2. To preserve the context of a file that was split into segments, you can prompt the model with the transcript of the preceding segment. This will make the transcript more accurate, as the model will use the relevant information from the previous audio. The model will only consider the final 224 tokens of the prompt and ignore anything earlier. For multilingual inputs, Whisper uses a custom tokenizer. For English only inputs, it uses the standard GPT-2 tokenizer which are both accessible through the open source Whisper Python package.\n",
    "\n",
    "3. Sometimes the model might skip punctuation in the transcript. You can avoid this by using a simple prompt that includes punctuation: \"Hello, welcome to my lecture.\" The model may also leave out common filler words in the audio. If you want to keep the filler words in your transcript, you can use a prompt that contains them: \"Umm, let me think like, hmm... Okay, here's what I'm, like, thinking.\" Some languages can be written in different ways, such as simplified or traditional Chinese. The model might not always use the writing style that you want for your transcript by default. You can improve this by using a prompt in your preferred writing style.\n",
    "\n",
    "#### Improving reliability\n",
    "\n",
    "As we explored in the prompting section, one of the most common challenges faced when using Whisper is the model often does not recognize uncommon words or acronyms. To address this, we have highlighted different techniques which improve the reliability of Whisper in these cases:\n",
    "\n",
    "##### Using the prompt parameter\n",
    "\n",
    "The first method involves using the optional prompt parameter to pass a dictionary of the correct spellings.\n",
    "\n",
    "Since it wasn't trained using instruction-following techniques, Whisper operates more like a base GPT model. It's important to keep in mind that Whisper only considers the first 244 tokens of the prompt.\n",
    "\n",
    "* transcribe(filepath, prompt=\"ZyntriQix, Digique Plus, CynapseFive, VortiQore V8, EchoNix Array, OrbitalLink Seven, DigiFractal Matrix, PULSE, RAPT, B.R.I.C.K., Q.U.A.R.T.Z., F.L.I.N.T.\")\n",
    "\n",
    "While it will increase reliability, this technique is limited to only 244 characters so your list of SKUs would need to be relatively small in order for this to be a scalable solution.\n",
    "\n",
    "## Post-processing with GPT-4\n",
    "\n",
    "The second method involves a post-processing step using GPT-4 or GPT-3.5-Turbo.\n",
    "\n",
    "We start by providing instructions for GPT-4 through the system_prompt variable. Similar to what we did with the prompt parameter earlier, we can define our company and product names."
   ]
  },
  {
   "cell_type": "code",
   "execution_count": null,
   "id": "ba062791",
   "metadata": {},
   "outputs": [],
   "source": [
    "transcript.text"
   ]
  },
  {
   "cell_type": "code",
   "execution_count": null,
   "id": "74cf6c4e",
   "metadata": {},
   "outputs": [],
   "source": [
    "from openai import OpenAI\n",
    "\n",
    "client = OpenAI()\n",
    "\n",
    "system_prompt = \"You are a helpful assistant for the company ZyntriQix. Your task is to correct any spelling discrepancies in the transcribed text. Make sure that the names of the following products are spelled correctly: ZyntriQix, Digique Plus, CynapseFive, VortiQore V8, EchoNix Array, OrbitalLink Seven, DigiFractal Matrix, PULSE, RAPT, B.R.I.C.K., Q.U.A.R.T.Z., F.L.I.N.T. Only add necessary punctuation such as periods, commas, and capitalization, and use only the context provided.\"\n",
    "\n",
    "fake_company_file_path = 'urdu.mp3'\n",
    "\n",
    "def generate_corrected_transcript(temperature, system_prompt, audio_file):\n",
    "    \n",
    "    response = client.chat.completions.create(\n",
    "        model='gpt-3.5-turbo-1106',\n",
    "        temperature=temperature,\n",
    "        messages=[\n",
    "            {\n",
    "                \"role\": \"system\",\n",
    "                \"content\": system_prompt\n",
    "            },\n",
    "            {\n",
    "                \"role\": \"user\",\n",
    "                \"content\": audio_file.text\n",
    "            }\n",
    "        ]\n",
    "    )\n",
    "    \n",
    "    display(response)\n",
    "    \n",
    "    return response.choices[0].message.content\n",
    "\n",
    "corrected_text = generate_corrected_transcript(0, system_prompt, transcript)\n",
    "\n",
    "corrected_text\n"
   ]
  }
 ],
 "metadata": {
  "kernelspec": {
   "display_name": "python12",
   "language": "python",
   "name": "python3"
  },
  "language_info": {
   "codemirror_mode": {
    "name": "ipython",
    "version": 3
   },
   "file_extension": ".py",
   "mimetype": "text/x-python",
   "name": "python",
   "nbconvert_exporter": "python",
   "pygments_lexer": "ipython3",
   "version": "3.12.0"
  }
 },
 "nbformat": 4,
 "nbformat_minor": 5
}
