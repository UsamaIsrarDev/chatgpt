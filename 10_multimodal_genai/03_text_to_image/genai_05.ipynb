{
 "cells": [
  {
   "cell_type": "markdown",
   "id": "c7a09e61",
   "metadata": {},
   "source": [
    "## Introduction\n",
    "\n",
    "The Images API provides three methods for interacting with images:\n",
    "\n",
    "1. Creating images from scratch based on a text prompt (DALL·E 3 and DALL·E 2)\n",
    "\n",
    "2. Creating edited versions of images by having the model replace some areas of a pre-existing image, based on a new text prompt (DALL·E 2 only)\n",
    "\n",
    "3. Creating variations of an existing image (DALL·E 2 only)\n",
    "\n",
    "This guide covers the basics of using these three API endpoints with useful code samples. To try DALL·E 3, head to ChatGPT. To try DALL·E 2, check out the DALL·E preview app."
   ]
  },
  {
   "cell_type": "code",
   "execution_count": null,
   "id": "4f9d2a6b",
   "metadata": {},
   "outputs": [],
   "source": [
    "from openai import OpenAI\n",
    "from dotenv import load_dotenv, find_dotenv\n",
    "\n",
    "_: bool = load_dotenv(find_dotenv)\n",
    "\n",
    "client = OpenAI()\n",
    "\n",
    "file_name: str = 'image.png'\n",
    "\n",
    "response = client.images.generate(\n",
    "    model=\"dall-e-3\",\n",
    "    n=1,\n",
    "    prompt=\"a white siamese dog playing the violen\",\n",
    "    size=\"1024x1024\",\n",
    "    quality=\"standard\"\n",
    ")\n",
    "\n",
    "image_url: str = response.data[0].url\n",
    "\n",
    "print(image_url)\n",
    "\n",
    "# save image to file"
   ]
  },
  {
   "cell_type": "code",
   "execution_count": null,
   "id": "c4a565c2",
   "metadata": {},
   "outputs": [],
   "source": [
    "import requests\n",
    "from PIL import Image\n",
    "\n",
    "response = requests.get(image_url)\n",
    "\n",
    "# save image to file\n",
    "\n",
    "with open(file_name, \"wb\") as f:\n",
    "    f.write(response.content)\n",
    "    \n",
    "# open image\n",
    "\n",
    "image: Image = Image.open(file_name)\n",
    "\n",
    "image._show()"
   ]
  },
  {
   "cell_type": "markdown",
   "id": "2c18a0cd",
   "metadata": {},
   "source": [
    "### Edits (DALL·E 2 only)\n",
    "\n",
    "Also known as \"inpainting\", the image edits endpoint allows you to edit or extend an image by uploading an image and mask indicating which areas should be replaced. The transparent areas of the mask indicate where the image should be edited, and the prompt should describe the full new image, not just the erased area. This endpoint can enable experiences like the editor in our DALL·E preview app."
   ]
  },
  {
   "cell_type": "code",
   "execution_count": null,
   "id": "8bd3170d",
   "metadata": {},
   "outputs": [],
   "source": [
    "image = open(\"background_image.png\", \"rb\")\n",
    "\n",
    "mask = open(\"masked.png\", \"rb\")\n",
    "\n",
    "response = client.images.edit(\n",
    "    model=\"dall-e-2\",\n",
    "    n=1,\n",
    "    size=\"512x512\",\n",
    "    image=image,\n",
    "    prompt=\"A sunny day with a hunter and his dog\",\n",
    "    mask=mask\n",
    ")\n",
    "\n",
    "print(response)\n",
    "\n",
    "image_url = response.data[0].url\n",
    "\n",
    "print(image_url)"
   ]
  },
  {
   "cell_type": "markdown",
   "id": "f5253344",
   "metadata": {},
   "source": [
    "### Variation (DALL-E 2 Only)\n",
    "\n",
    "The image variations endpoint allows you to generate a variation of a given image."
   ]
  },
  {
   "cell_type": "code",
   "execution_count": null,
   "id": "b7dc3812",
   "metadata": {},
   "outputs": [],
   "source": [
    "response = client.images.create_variations(\n",
    "    image=open(\"image.png\", \"rb\")\n",
    "    n=2,\n",
    "    size=\"\"\n",
    ")\n",
    "\n",
    "image_url = response.data[0].url"
   ]
  },
  {
   "cell_type": "code",
   "execution_count": null,
   "id": "57072f97",
   "metadata": {},
   "outputs": [],
   "source": [
    "image_url"
   ]
  },
  {
   "cell_type": "code",
   "execution_count": null,
   "id": "297c85e4",
   "metadata": {},
   "outputs": [],
   "source": []
  }
 ],
 "metadata": {
  "kernelspec": {
   "display_name": "python12",
   "language": "python",
   "name": "python3"
  },
  "language_info": {
   "codemirror_mode": {
    "name": "ipython",
    "version": 3
   },
   "file_extension": ".py",
   "mimetype": "text/x-python",
   "name": "python",
   "nbconvert_exporter": "python",
   "pygments_lexer": "ipython3",
   "version": "3.12.0"
  }
 },
 "nbformat": 4,
 "nbformat_minor": 5
}
